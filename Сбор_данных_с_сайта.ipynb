{
  "nbformat": 4,
  "nbformat_minor": 0,
  "metadata": {
    "colab": {
      "provenance": []
    },
    "kernelspec": {
      "name": "python3",
      "display_name": "Python 3"
    },
    "language_info": {
      "name": "python"
    },
    "widgets": {
      "application/vnd.jupyter.widget-state+json": {
        "92e3f1b60b45461aa3a6c6fbeee20778": {
          "model_module": "@jupyter-widgets/controls",
          "model_name": "DropdownModel",
          "model_module_version": "1.5.0",
          "state": {
            "_dom_classes": [],
            "_model_module": "@jupyter-widgets/controls",
            "_model_module_version": "1.5.0",
            "_model_name": "DropdownModel",
            "_options_labels": [
              "Мир",
              "Группа"
            ],
            "_view_count": null,
            "_view_module": "@jupyter-widgets/controls",
            "_view_module_version": "1.5.0",
            "_view_name": "DropdownView",
            "description": "Мир:",
            "description_tooltip": null,
            "disabled": false,
            "index": 1,
            "layout": "IPY_MODEL_c3c327acbc5b47e98de19487b43ea23e",
            "style": "IPY_MODEL_f9acb62366354947a2a48d028e07cd76"
          }
        },
        "c3c327acbc5b47e98de19487b43ea23e": {
          "model_module": "@jupyter-widgets/base",
          "model_name": "LayoutModel",
          "model_module_version": "1.2.0",
          "state": {
            "_model_module": "@jupyter-widgets/base",
            "_model_module_version": "1.2.0",
            "_model_name": "LayoutModel",
            "_view_count": null,
            "_view_module": "@jupyter-widgets/base",
            "_view_module_version": "1.2.0",
            "_view_name": "LayoutView",
            "align_content": null,
            "align_items": null,
            "align_self": null,
            "border": null,
            "bottom": null,
            "display": null,
            "flex": null,
            "flex_flow": null,
            "grid_area": null,
            "grid_auto_columns": null,
            "grid_auto_flow": null,
            "grid_auto_rows": null,
            "grid_column": null,
            "grid_gap": null,
            "grid_row": null,
            "grid_template_areas": null,
            "grid_template_columns": null,
            "grid_template_rows": null,
            "height": null,
            "justify_content": null,
            "justify_items": null,
            "left": null,
            "margin": null,
            "max_height": null,
            "max_width": null,
            "min_height": null,
            "min_width": null,
            "object_fit": null,
            "object_position": null,
            "order": null,
            "overflow": null,
            "overflow_x": null,
            "overflow_y": null,
            "padding": null,
            "right": null,
            "top": null,
            "visibility": null,
            "width": null
          }
        },
        "f9acb62366354947a2a48d028e07cd76": {
          "model_module": "@jupyter-widgets/controls",
          "model_name": "DescriptionStyleModel",
          "model_module_version": "1.5.0",
          "state": {
            "_model_module": "@jupyter-widgets/controls",
            "_model_module_version": "1.5.0",
            "_model_name": "DescriptionStyleModel",
            "_view_count": null,
            "_view_module": "@jupyter-widgets/base",
            "_view_module_version": "1.2.0",
            "_view_name": "StyleView",
            "description_width": ""
          }
        },
        "527e0212a8bc4b2a88029eef643fd9e4": {
          "model_module": "@jupyter-widgets/output",
          "model_name": "OutputModel",
          "model_module_version": "1.0.0",
          "state": {
            "_dom_classes": [],
            "_model_module": "@jupyter-widgets/output",
            "_model_module_version": "1.0.0",
            "_model_name": "OutputModel",
            "_view_count": null,
            "_view_module": "@jupyter-widgets/output",
            "_view_module_version": "1.0.0",
            "_view_name": "OutputView",
            "layout": "IPY_MODEL_25eb8dd156074e96b1e514fdea042d50",
            "msg_id": "",
            "outputs": [
              {
                "output_type": "display_data",
                "data": {
                  "text/plain": "<Figure size 640x480 with 1 Axes>",
                  "image/png": "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\n"
                },
                "metadata": {}
              }
            ]
          }
        },
        "25eb8dd156074e96b1e514fdea042d50": {
          "model_module": "@jupyter-widgets/base",
          "model_name": "LayoutModel",
          "model_module_version": "1.2.0",
          "state": {
            "_model_module": "@jupyter-widgets/base",
            "_model_module_version": "1.2.0",
            "_model_name": "LayoutModel",
            "_view_count": null,
            "_view_module": "@jupyter-widgets/base",
            "_view_module_version": "1.2.0",
            "_view_name": "LayoutView",
            "align_content": null,
            "align_items": null,
            "align_self": null,
            "border": null,
            "bottom": null,
            "display": null,
            "flex": null,
            "flex_flow": null,
            "grid_area": null,
            "grid_auto_columns": null,
            "grid_auto_flow": null,
            "grid_auto_rows": null,
            "grid_column": null,
            "grid_gap": null,
            "grid_row": null,
            "grid_template_areas": null,
            "grid_template_columns": null,
            "grid_template_rows": null,
            "height": null,
            "justify_content": null,
            "justify_items": null,
            "left": null,
            "margin": null,
            "max_height": null,
            "max_width": null,
            "min_height": null,
            "min_width": null,
            "object_fit": null,
            "object_position": null,
            "order": null,
            "overflow": null,
            "overflow_x": null,
            "overflow_y": null,
            "padding": null,
            "right": null,
            "top": null,
            "visibility": null,
            "width": null
          }
        }
      }
    }
  },
  "cells": [
    {
      "cell_type": "code",
      "execution_count": 1,
      "metadata": {
        "id": "aBZKPXfAN8yr"
      },
      "outputs": [],
      "source": [
        "from bs4 import BeautifulSoup # библиотека для парсинга - поиск информации по структуре тегов\n",
        "import requests # получение данных по ссылке\n",
        "import pandas as pd"
      ]
    },
    {
      "cell_type": "code",
      "source": [
        "html = requests.get('https://genshin-info.ru/wiki/personazhi/').text\n",
        "soup = BeautifulSoup(html, 'html')"
      ],
      "metadata": {
        "id": "u-_QcxxXOEsg"
      },
      "execution_count": 2,
      "outputs": []
    },
    {
      "cell_type": "code",
      "source": [
        "hero = soup.find_all('div', {'class':'itemcard__name'})\n",
        "heroes = []\n",
        "for elem in hero:\n",
        "  if len(elem.text) == 1 :\n",
        "    heroes.append('Главный герой')\n",
        "  else:\n",
        "    heroes.append(elem.text)\n",
        "print(len(heroes))"
      ],
      "metadata": {
        "colab": {
          "base_uri": "https://localhost:8080/"
        },
        "id": "2QjV6ZfzOJ5v",
        "outputId": "761f3164-8df1-4198-f92f-6b5e572072d2"
      },
      "execution_count": 79,
      "outputs": [
        {
          "output_type": "stream",
          "name": "stdout",
          "text": [
            "80\n"
          ]
        }
      ]
    },
    {
      "cell_type": "code",
      "source": [
        "url = soup.find_all('div', {'class':'itemcard__img'})\n",
        "urls = []\n",
        "for elem in url:\n",
        "  urls.append('https://genshin-info.ru/' + elem.img['data-src'])\n",
        "print(len(urls))"
      ],
      "metadata": {
        "colab": {
          "base_uri": "https://localhost:8080/"
        },
        "id": "Z4wzI6YrQNtA",
        "outputId": "8d6a983d-4361-470e-af8d-e5026fcd5b49"
      },
      "execution_count": 80,
      "outputs": [
        {
          "output_type": "stream",
          "name": "stdout",
          "text": [
            "80\n"
          ]
        }
      ]
    },
    {
      "cell_type": "code",
      "source": [
        "predata = []\n",
        "for hero, url in zip(heroes, urls):\n",
        "  predata.append([hero, url])\n",
        "predata.pop()"
      ],
      "metadata": {
        "id": "adY6pBpfUzc2"
      },
      "execution_count": null,
      "outputs": []
    },
    {
      "cell_type": "code",
      "source": [
        "my_data = pd.DataFrame(data=predata, columns = ['hero', 'url'])"
      ],
      "metadata": {
        "id": "ldvch1Q4TMGE"
      },
      "execution_count": 140,
      "outputs": []
    },
    {
      "cell_type": "code",
      "source": [
        "my_data['name'] = 'Геншин Импакт'\n",
        "my_data['poster'] = 'https://genshin-info.ru/local/templates/wi_genshin/images/bg_xs.webp'\n",
        "my_data['group'] = 'Игры'"
      ],
      "metadata": {
        "id": "m-5gRX2uVsR_"
      },
      "execution_count": 141,
      "outputs": []
    },
    {
      "cell_type": "code",
      "source": [
        "my_data = my_data.drop_duplicates()"
      ],
      "metadata": {
        "id": "V84qZcOca4oX"
      },
      "execution_count": 142,
      "outputs": []
    },
    {
      "cell_type": "code",
      "source": [
        "my_data['index_character'] = [i + 1 for i in range(len(my_data))]"
      ],
      "metadata": {
        "id": "Mc3zDP6GaJpR"
      },
      "execution_count": 143,
      "outputs": []
    },
    {
      "cell_type": "code",
      "source": [
        "data = pd.read_csv('https://raw.githubusercontent.com/yupest/guess_who/main/data/data.csv', index_col=0)"
      ],
      "metadata": {
        "id": "AzOQinn-b0u-"
      },
      "execution_count": 144,
      "outputs": []
    },
    {
      "cell_type": "code",
      "source": [
        "start_index = data['index'].max() + 1\n",
        "start_index_world = data['index_world'].max() + 1"
      ],
      "metadata": {
        "id": "GUyqOFvbfgFw"
      },
      "execution_count": 145,
      "outputs": []
    },
    {
      "cell_type": "code",
      "source": [
        "my_data['index'] = [start_index + i for i in range(len(my_data))]\n",
        "my_data['index_world'] = [start_index_world for i in range(len(my_data))]"
      ],
      "metadata": {
        "id": "Ar6WJfQ9gEs1"
      },
      "execution_count": 146,
      "outputs": []
    },
    {
      "cell_type": "code",
      "source": [
        "my_data.head()"
      ],
      "metadata": {
        "colab": {
          "base_uri": "https://localhost:8080/",
          "height": 206
        },
        "id": "824CY9VzV7xc",
        "outputId": "f7444dd0-cc5d-4f9d-b65e-f8a58c824040"
      },
      "execution_count": 148,
      "outputs": [
        {
          "output_type": "execute_result",
          "data": {
            "text/plain": [
              "       hero                                                url           name  \\\n",
              "0    Фурина  https://genshin-info.ru//upload/resize_cache/i...  Геншин Импакт   \n",
              "1  Шарлотта  https://genshin-info.ru//upload/resize_cache/i...  Геншин Импакт   \n",
              "2     Ризли  https://genshin-info.ru//upload/resize_cache/i...  Геншин Импакт   \n",
              "3  Нёвиллет  https://genshin-info.ru//upload/resize_cache/i...  Геншин Импакт   \n",
              "4      Лини  https://genshin-info.ru//upload/resize_cache/i...  Геншин Импакт   \n",
              "\n",
              "                                              poster group  index_character  \\\n",
              "0  https://genshin-info.ru/local/templates/wi_gen...  Игры                1   \n",
              "1  https://genshin-info.ru/local/templates/wi_gen...  Игры                2   \n",
              "2  https://genshin-info.ru/local/templates/wi_gen...  Игры                3   \n",
              "3  https://genshin-info.ru/local/templates/wi_gen...  Игры                4   \n",
              "4  https://genshin-info.ru/local/templates/wi_gen...  Игры                5   \n",
              "\n",
              "   index  index_world  \n",
              "0   1617           24  \n",
              "1   1618           24  \n",
              "2   1619           24  \n",
              "3   1620           24  \n",
              "4   1621           24  "
            ],
            "text/html": [
              "\n",
              "  <div id=\"df-2f7823f0-27c7-4c81-9412-1289c9dfea61\" class=\"colab-df-container\">\n",
              "    <div>\n",
              "<style scoped>\n",
              "    .dataframe tbody tr th:only-of-type {\n",
              "        vertical-align: middle;\n",
              "    }\n",
              "\n",
              "    .dataframe tbody tr th {\n",
              "        vertical-align: top;\n",
              "    }\n",
              "\n",
              "    .dataframe thead th {\n",
              "        text-align: right;\n",
              "    }\n",
              "</style>\n",
              "<table border=\"1\" class=\"dataframe\">\n",
              "  <thead>\n",
              "    <tr style=\"text-align: right;\">\n",
              "      <th></th>\n",
              "      <th>hero</th>\n",
              "      <th>url</th>\n",
              "      <th>name</th>\n",
              "      <th>poster</th>\n",
              "      <th>group</th>\n",
              "      <th>index_character</th>\n",
              "      <th>index</th>\n",
              "      <th>index_world</th>\n",
              "    </tr>\n",
              "  </thead>\n",
              "  <tbody>\n",
              "    <tr>\n",
              "      <th>0</th>\n",
              "      <td>Фурина</td>\n",
              "      <td>https://genshin-info.ru//upload/resize_cache/i...</td>\n",
              "      <td>Геншин Импакт</td>\n",
              "      <td>https://genshin-info.ru/local/templates/wi_gen...</td>\n",
              "      <td>Игры</td>\n",
              "      <td>1</td>\n",
              "      <td>1617</td>\n",
              "      <td>24</td>\n",
              "    </tr>\n",
              "    <tr>\n",
              "      <th>1</th>\n",
              "      <td>Шарлотта</td>\n",
              "      <td>https://genshin-info.ru//upload/resize_cache/i...</td>\n",
              "      <td>Геншин Импакт</td>\n",
              "      <td>https://genshin-info.ru/local/templates/wi_gen...</td>\n",
              "      <td>Игры</td>\n",
              "      <td>2</td>\n",
              "      <td>1618</td>\n",
              "      <td>24</td>\n",
              "    </tr>\n",
              "    <tr>\n",
              "      <th>2</th>\n",
              "      <td>Ризли</td>\n",
              "      <td>https://genshin-info.ru//upload/resize_cache/i...</td>\n",
              "      <td>Геншин Импакт</td>\n",
              "      <td>https://genshin-info.ru/local/templates/wi_gen...</td>\n",
              "      <td>Игры</td>\n",
              "      <td>3</td>\n",
              "      <td>1619</td>\n",
              "      <td>24</td>\n",
              "    </tr>\n",
              "    <tr>\n",
              "      <th>3</th>\n",
              "      <td>Нёвиллет</td>\n",
              "      <td>https://genshin-info.ru//upload/resize_cache/i...</td>\n",
              "      <td>Геншин Импакт</td>\n",
              "      <td>https://genshin-info.ru/local/templates/wi_gen...</td>\n",
              "      <td>Игры</td>\n",
              "      <td>4</td>\n",
              "      <td>1620</td>\n",
              "      <td>24</td>\n",
              "    </tr>\n",
              "    <tr>\n",
              "      <th>4</th>\n",
              "      <td>Лини</td>\n",
              "      <td>https://genshin-info.ru//upload/resize_cache/i...</td>\n",
              "      <td>Геншин Импакт</td>\n",
              "      <td>https://genshin-info.ru/local/templates/wi_gen...</td>\n",
              "      <td>Игры</td>\n",
              "      <td>5</td>\n",
              "      <td>1621</td>\n",
              "      <td>24</td>\n",
              "    </tr>\n",
              "  </tbody>\n",
              "</table>\n",
              "</div>\n",
              "    <div class=\"colab-df-buttons\">\n",
              "\n",
              "  <div class=\"colab-df-container\">\n",
              "    <button class=\"colab-df-convert\" onclick=\"convertToInteractive('df-2f7823f0-27c7-4c81-9412-1289c9dfea61')\"\n",
              "            title=\"Convert this dataframe to an interactive table.\"\n",
              "            style=\"display:none;\">\n",
              "\n",
              "  <svg xmlns=\"http://www.w3.org/2000/svg\" height=\"24px\" viewBox=\"0 -960 960 960\">\n",
              "    <path d=\"M120-120v-720h720v720H120Zm60-500h600v-160H180v160Zm220 220h160v-160H400v160Zm0 220h160v-160H400v160ZM180-400h160v-160H180v160Zm440 0h160v-160H620v160ZM180-180h160v-160H180v160Zm440 0h160v-160H620v160Z\"/>\n",
              "  </svg>\n",
              "    </button>\n",
              "\n",
              "  <style>\n",
              "    .colab-df-container {\n",
              "      display:flex;\n",
              "      gap: 12px;\n",
              "    }\n",
              "\n",
              "    .colab-df-convert {\n",
              "      background-color: #E8F0FE;\n",
              "      border: none;\n",
              "      border-radius: 50%;\n",
              "      cursor: pointer;\n",
              "      display: none;\n",
              "      fill: #1967D2;\n",
              "      height: 32px;\n",
              "      padding: 0 0 0 0;\n",
              "      width: 32px;\n",
              "    }\n",
              "\n",
              "    .colab-df-convert:hover {\n",
              "      background-color: #E2EBFA;\n",
              "      box-shadow: 0px 1px 2px rgba(60, 64, 67, 0.3), 0px 1px 3px 1px rgba(60, 64, 67, 0.15);\n",
              "      fill: #174EA6;\n",
              "    }\n",
              "\n",
              "    .colab-df-buttons div {\n",
              "      margin-bottom: 4px;\n",
              "    }\n",
              "\n",
              "    [theme=dark] .colab-df-convert {\n",
              "      background-color: #3B4455;\n",
              "      fill: #D2E3FC;\n",
              "    }\n",
              "\n",
              "    [theme=dark] .colab-df-convert:hover {\n",
              "      background-color: #434B5C;\n",
              "      box-shadow: 0px 1px 3px 1px rgba(0, 0, 0, 0.15);\n",
              "      filter: drop-shadow(0px 1px 2px rgba(0, 0, 0, 0.3));\n",
              "      fill: #FFFFFF;\n",
              "    }\n",
              "  </style>\n",
              "\n",
              "    <script>\n",
              "      const buttonEl =\n",
              "        document.querySelector('#df-2f7823f0-27c7-4c81-9412-1289c9dfea61 button.colab-df-convert');\n",
              "      buttonEl.style.display =\n",
              "        google.colab.kernel.accessAllowed ? 'block' : 'none';\n",
              "\n",
              "      async function convertToInteractive(key) {\n",
              "        const element = document.querySelector('#df-2f7823f0-27c7-4c81-9412-1289c9dfea61');\n",
              "        const dataTable =\n",
              "          await google.colab.kernel.invokeFunction('convertToInteractive',\n",
              "                                                    [key], {});\n",
              "        if (!dataTable) return;\n",
              "\n",
              "        const docLinkHtml = 'Like what you see? Visit the ' +\n",
              "          '<a target=\"_blank\" href=https://colab.research.google.com/notebooks/data_table.ipynb>data table notebook</a>'\n",
              "          + ' to learn more about interactive tables.';\n",
              "        element.innerHTML = '';\n",
              "        dataTable['output_type'] = 'display_data';\n",
              "        await google.colab.output.renderOutput(dataTable, element);\n",
              "        const docLink = document.createElement('div');\n",
              "        docLink.innerHTML = docLinkHtml;\n",
              "        element.appendChild(docLink);\n",
              "      }\n",
              "    </script>\n",
              "  </div>\n",
              "\n",
              "\n",
              "<div id=\"df-4bdf9107-3113-4b0a-8d9b-4c22aabef32f\">\n",
              "  <button class=\"colab-df-quickchart\" onclick=\"quickchart('df-4bdf9107-3113-4b0a-8d9b-4c22aabef32f')\"\n",
              "            title=\"Suggest charts.\"\n",
              "            style=\"display:none;\">\n",
              "\n",
              "<svg xmlns=\"http://www.w3.org/2000/svg\" height=\"24px\"viewBox=\"0 0 24 24\"\n",
              "     width=\"24px\">\n",
              "    <g>\n",
              "        <path d=\"M19 3H5c-1.1 0-2 .9-2 2v14c0 1.1.9 2 2 2h14c1.1 0 2-.9 2-2V5c0-1.1-.9-2-2-2zM9 17H7v-7h2v7zm4 0h-2V7h2v10zm4 0h-2v-4h2v4z\"/>\n",
              "    </g>\n",
              "</svg>\n",
              "  </button>\n",
              "\n",
              "<style>\n",
              "  .colab-df-quickchart {\n",
              "      --bg-color: #E8F0FE;\n",
              "      --fill-color: #1967D2;\n",
              "      --hover-bg-color: #E2EBFA;\n",
              "      --hover-fill-color: #174EA6;\n",
              "      --disabled-fill-color: #AAA;\n",
              "      --disabled-bg-color: #DDD;\n",
              "  }\n",
              "\n",
              "  [theme=dark] .colab-df-quickchart {\n",
              "      --bg-color: #3B4455;\n",
              "      --fill-color: #D2E3FC;\n",
              "      --hover-bg-color: #434B5C;\n",
              "      --hover-fill-color: #FFFFFF;\n",
              "      --disabled-bg-color: #3B4455;\n",
              "      --disabled-fill-color: #666;\n",
              "  }\n",
              "\n",
              "  .colab-df-quickchart {\n",
              "    background-color: var(--bg-color);\n",
              "    border: none;\n",
              "    border-radius: 50%;\n",
              "    cursor: pointer;\n",
              "    display: none;\n",
              "    fill: var(--fill-color);\n",
              "    height: 32px;\n",
              "    padding: 0;\n",
              "    width: 32px;\n",
              "  }\n",
              "\n",
              "  .colab-df-quickchart:hover {\n",
              "    background-color: var(--hover-bg-color);\n",
              "    box-shadow: 0 1px 2px rgba(60, 64, 67, 0.3), 0 1px 3px 1px rgba(60, 64, 67, 0.15);\n",
              "    fill: var(--button-hover-fill-color);\n",
              "  }\n",
              "\n",
              "  .colab-df-quickchart-complete:disabled,\n",
              "  .colab-df-quickchart-complete:disabled:hover {\n",
              "    background-color: var(--disabled-bg-color);\n",
              "    fill: var(--disabled-fill-color);\n",
              "    box-shadow: none;\n",
              "  }\n",
              "\n",
              "  .colab-df-spinner {\n",
              "    border: 2px solid var(--fill-color);\n",
              "    border-color: transparent;\n",
              "    border-bottom-color: var(--fill-color);\n",
              "    animation:\n",
              "      spin 1s steps(1) infinite;\n",
              "  }\n",
              "\n",
              "  @keyframes spin {\n",
              "    0% {\n",
              "      border-color: transparent;\n",
              "      border-bottom-color: var(--fill-color);\n",
              "      border-left-color: var(--fill-color);\n",
              "    }\n",
              "    20% {\n",
              "      border-color: transparent;\n",
              "      border-left-color: var(--fill-color);\n",
              "      border-top-color: var(--fill-color);\n",
              "    }\n",
              "    30% {\n",
              "      border-color: transparent;\n",
              "      border-left-color: var(--fill-color);\n",
              "      border-top-color: var(--fill-color);\n",
              "      border-right-color: var(--fill-color);\n",
              "    }\n",
              "    40% {\n",
              "      border-color: transparent;\n",
              "      border-right-color: var(--fill-color);\n",
              "      border-top-color: var(--fill-color);\n",
              "    }\n",
              "    60% {\n",
              "      border-color: transparent;\n",
              "      border-right-color: var(--fill-color);\n",
              "    }\n",
              "    80% {\n",
              "      border-color: transparent;\n",
              "      border-right-color: var(--fill-color);\n",
              "      border-bottom-color: var(--fill-color);\n",
              "    }\n",
              "    90% {\n",
              "      border-color: transparent;\n",
              "      border-bottom-color: var(--fill-color);\n",
              "    }\n",
              "  }\n",
              "</style>\n",
              "\n",
              "  <script>\n",
              "    async function quickchart(key) {\n",
              "      const quickchartButtonEl =\n",
              "        document.querySelector('#' + key + ' button');\n",
              "      quickchartButtonEl.disabled = true;  // To prevent multiple clicks.\n",
              "      quickchartButtonEl.classList.add('colab-df-spinner');\n",
              "      try {\n",
              "        const charts = await google.colab.kernel.invokeFunction(\n",
              "            'suggestCharts', [key], {});\n",
              "      } catch (error) {\n",
              "        console.error('Error during call to suggestCharts:', error);\n",
              "      }\n",
              "      quickchartButtonEl.classList.remove('colab-df-spinner');\n",
              "      quickchartButtonEl.classList.add('colab-df-quickchart-complete');\n",
              "    }\n",
              "    (() => {\n",
              "      let quickchartButtonEl =\n",
              "        document.querySelector('#df-4bdf9107-3113-4b0a-8d9b-4c22aabef32f button');\n",
              "      quickchartButtonEl.style.display =\n",
              "        google.colab.kernel.accessAllowed ? 'block' : 'none';\n",
              "    })();\n",
              "  </script>\n",
              "</div>\n",
              "    </div>\n",
              "  </div>\n"
            ]
          },
          "metadata": {},
          "execution_count": 148
        }
      ]
    },
    {
      "cell_type": "code",
      "source": [
        "data = pd.concat([data, my_data])"
      ],
      "metadata": {
        "id": "dOJUK2JlcCZ4"
      },
      "execution_count": 149,
      "outputs": []
    },
    {
      "cell_type": "code",
      "source": [
        "data.head()"
      ],
      "metadata": {
        "colab": {
          "base_uri": "https://localhost:8080/",
          "height": 206
        },
        "id": "Wtqvn9YqgxGH",
        "outputId": "13b89e63-7301-4f72-b528-2832ef72a191"
      },
      "execution_count": 156,
      "outputs": [
        {
          "output_type": "execute_result",
          "data": {
            "text/plain": [
              "   index  index_character  index_world            name  \\\n",
              "0      1                1            0         Создать   \n",
              "1      2                1            0         Оценить   \n",
              "2   1616                1            0  Помочь проекту   \n",
              "3      3                1            1          Наруто   \n",
              "4      4                2            1          Наруто   \n",
              "\n",
              "                                              poster    hero  \\\n",
              "0  https://github.com/yupest/guess_who/blob/main/...     NaN   \n",
              "1  https://github.com/yupest/guess_who/blob/main/...     NaN   \n",
              "2  https://github.com/yupest/guess_who/blob/main/...     NaN   \n",
              "3  https://c.wallhere.com/photos/d4/f4/Naruto_Shi...  Наруто   \n",
              "4  https://c.wallhere.com/photos/d4/f4/Naruto_Shi...  Хината   \n",
              "\n",
              "                                                 url  group  Unnamed: 8  \\\n",
              "0                https://forms.gle/ezzDeRL6WM3gbXTr7    Все         NaN   \n",
              "1                https://forms.gle/kx9hjRVi6KT9TyFg7    Все         NaN   \n",
              "2                                       payment.html    Все         NaN   \n",
              "3  http://pm1.narvii.com/6922/d7d029f10750725a220...  Аниме         NaN   \n",
              "4  https://wallup.net/wp-content/uploads/2019/09/...  Аниме         NaN   \n",
              "\n",
              "  url_info description  \n",
              "0      NaN         NaN  \n",
              "1      NaN         NaN  \n",
              "2      NaN         NaN  \n",
              "3      NaN         NaN  \n",
              "4      NaN         NaN  "
            ],
            "text/html": [
              "\n",
              "  <div id=\"df-f413501a-5361-4ac3-adf2-123e815a6c5d\" class=\"colab-df-container\">\n",
              "    <div>\n",
              "<style scoped>\n",
              "    .dataframe tbody tr th:only-of-type {\n",
              "        vertical-align: middle;\n",
              "    }\n",
              "\n",
              "    .dataframe tbody tr th {\n",
              "        vertical-align: top;\n",
              "    }\n",
              "\n",
              "    .dataframe thead th {\n",
              "        text-align: right;\n",
              "    }\n",
              "</style>\n",
              "<table border=\"1\" class=\"dataframe\">\n",
              "  <thead>\n",
              "    <tr style=\"text-align: right;\">\n",
              "      <th></th>\n",
              "      <th>index</th>\n",
              "      <th>index_character</th>\n",
              "      <th>index_world</th>\n",
              "      <th>name</th>\n",
              "      <th>poster</th>\n",
              "      <th>hero</th>\n",
              "      <th>url</th>\n",
              "      <th>group</th>\n",
              "      <th>Unnamed: 8</th>\n",
              "      <th>url_info</th>\n",
              "      <th>description</th>\n",
              "    </tr>\n",
              "  </thead>\n",
              "  <tbody>\n",
              "    <tr>\n",
              "      <th>0</th>\n",
              "      <td>1</td>\n",
              "      <td>1</td>\n",
              "      <td>0</td>\n",
              "      <td>Создать</td>\n",
              "      <td>https://github.com/yupest/guess_who/blob/main/...</td>\n",
              "      <td>NaN</td>\n",
              "      <td>https://forms.gle/ezzDeRL6WM3gbXTr7</td>\n",
              "      <td>Все</td>\n",
              "      <td>NaN</td>\n",
              "      <td>NaN</td>\n",
              "      <td>NaN</td>\n",
              "    </tr>\n",
              "    <tr>\n",
              "      <th>1</th>\n",
              "      <td>2</td>\n",
              "      <td>1</td>\n",
              "      <td>0</td>\n",
              "      <td>Оценить</td>\n",
              "      <td>https://github.com/yupest/guess_who/blob/main/...</td>\n",
              "      <td>NaN</td>\n",
              "      <td>https://forms.gle/kx9hjRVi6KT9TyFg7</td>\n",
              "      <td>Все</td>\n",
              "      <td>NaN</td>\n",
              "      <td>NaN</td>\n",
              "      <td>NaN</td>\n",
              "    </tr>\n",
              "    <tr>\n",
              "      <th>2</th>\n",
              "      <td>1616</td>\n",
              "      <td>1</td>\n",
              "      <td>0</td>\n",
              "      <td>Помочь проекту</td>\n",
              "      <td>https://github.com/yupest/guess_who/blob/main/...</td>\n",
              "      <td>NaN</td>\n",
              "      <td>payment.html</td>\n",
              "      <td>Все</td>\n",
              "      <td>NaN</td>\n",
              "      <td>NaN</td>\n",
              "      <td>NaN</td>\n",
              "    </tr>\n",
              "    <tr>\n",
              "      <th>3</th>\n",
              "      <td>3</td>\n",
              "      <td>1</td>\n",
              "      <td>1</td>\n",
              "      <td>Наруто</td>\n",
              "      <td>https://c.wallhere.com/photos/d4/f4/Naruto_Shi...</td>\n",
              "      <td>Наруто</td>\n",
              "      <td>http://pm1.narvii.com/6922/d7d029f10750725a220...</td>\n",
              "      <td>Аниме</td>\n",
              "      <td>NaN</td>\n",
              "      <td>NaN</td>\n",
              "      <td>NaN</td>\n",
              "    </tr>\n",
              "    <tr>\n",
              "      <th>4</th>\n",
              "      <td>4</td>\n",
              "      <td>2</td>\n",
              "      <td>1</td>\n",
              "      <td>Наруто</td>\n",
              "      <td>https://c.wallhere.com/photos/d4/f4/Naruto_Shi...</td>\n",
              "      <td>Хината</td>\n",
              "      <td>https://wallup.net/wp-content/uploads/2019/09/...</td>\n",
              "      <td>Аниме</td>\n",
              "      <td>NaN</td>\n",
              "      <td>NaN</td>\n",
              "      <td>NaN</td>\n",
              "    </tr>\n",
              "  </tbody>\n",
              "</table>\n",
              "</div>\n",
              "    <div class=\"colab-df-buttons\">\n",
              "\n",
              "  <div class=\"colab-df-container\">\n",
              "    <button class=\"colab-df-convert\" onclick=\"convertToInteractive('df-f413501a-5361-4ac3-adf2-123e815a6c5d')\"\n",
              "            title=\"Convert this dataframe to an interactive table.\"\n",
              "            style=\"display:none;\">\n",
              "\n",
              "  <svg xmlns=\"http://www.w3.org/2000/svg\" height=\"24px\" viewBox=\"0 -960 960 960\">\n",
              "    <path d=\"M120-120v-720h720v720H120Zm60-500h600v-160H180v160Zm220 220h160v-160H400v160Zm0 220h160v-160H400v160ZM180-400h160v-160H180v160Zm440 0h160v-160H620v160ZM180-180h160v-160H180v160Zm440 0h160v-160H620v160Z\"/>\n",
              "  </svg>\n",
              "    </button>\n",
              "\n",
              "  <style>\n",
              "    .colab-df-container {\n",
              "      display:flex;\n",
              "      gap: 12px;\n",
              "    }\n",
              "\n",
              "    .colab-df-convert {\n",
              "      background-color: #E8F0FE;\n",
              "      border: none;\n",
              "      border-radius: 50%;\n",
              "      cursor: pointer;\n",
              "      display: none;\n",
              "      fill: #1967D2;\n",
              "      height: 32px;\n",
              "      padding: 0 0 0 0;\n",
              "      width: 32px;\n",
              "    }\n",
              "\n",
              "    .colab-df-convert:hover {\n",
              "      background-color: #E2EBFA;\n",
              "      box-shadow: 0px 1px 2px rgba(60, 64, 67, 0.3), 0px 1px 3px 1px rgba(60, 64, 67, 0.15);\n",
              "      fill: #174EA6;\n",
              "    }\n",
              "\n",
              "    .colab-df-buttons div {\n",
              "      margin-bottom: 4px;\n",
              "    }\n",
              "\n",
              "    [theme=dark] .colab-df-convert {\n",
              "      background-color: #3B4455;\n",
              "      fill: #D2E3FC;\n",
              "    }\n",
              "\n",
              "    [theme=dark] .colab-df-convert:hover {\n",
              "      background-color: #434B5C;\n",
              "      box-shadow: 0px 1px 3px 1px rgba(0, 0, 0, 0.15);\n",
              "      filter: drop-shadow(0px 1px 2px rgba(0, 0, 0, 0.3));\n",
              "      fill: #FFFFFF;\n",
              "    }\n",
              "  </style>\n",
              "\n",
              "    <script>\n",
              "      const buttonEl =\n",
              "        document.querySelector('#df-f413501a-5361-4ac3-adf2-123e815a6c5d button.colab-df-convert');\n",
              "      buttonEl.style.display =\n",
              "        google.colab.kernel.accessAllowed ? 'block' : 'none';\n",
              "\n",
              "      async function convertToInteractive(key) {\n",
              "        const element = document.querySelector('#df-f413501a-5361-4ac3-adf2-123e815a6c5d');\n",
              "        const dataTable =\n",
              "          await google.colab.kernel.invokeFunction('convertToInteractive',\n",
              "                                                    [key], {});\n",
              "        if (!dataTable) return;\n",
              "\n",
              "        const docLinkHtml = 'Like what you see? Visit the ' +\n",
              "          '<a target=\"_blank\" href=https://colab.research.google.com/notebooks/data_table.ipynb>data table notebook</a>'\n",
              "          + ' to learn more about interactive tables.';\n",
              "        element.innerHTML = '';\n",
              "        dataTable['output_type'] = 'display_data';\n",
              "        await google.colab.output.renderOutput(dataTable, element);\n",
              "        const docLink = document.createElement('div');\n",
              "        docLink.innerHTML = docLinkHtml;\n",
              "        element.appendChild(docLink);\n",
              "      }\n",
              "    </script>\n",
              "  </div>\n",
              "\n",
              "\n",
              "<div id=\"df-7ea54997-d98c-49d0-bc14-e6a4da351694\">\n",
              "  <button class=\"colab-df-quickchart\" onclick=\"quickchart('df-7ea54997-d98c-49d0-bc14-e6a4da351694')\"\n",
              "            title=\"Suggest charts.\"\n",
              "            style=\"display:none;\">\n",
              "\n",
              "<svg xmlns=\"http://www.w3.org/2000/svg\" height=\"24px\"viewBox=\"0 0 24 24\"\n",
              "     width=\"24px\">\n",
              "    <g>\n",
              "        <path d=\"M19 3H5c-1.1 0-2 .9-2 2v14c0 1.1.9 2 2 2h14c1.1 0 2-.9 2-2V5c0-1.1-.9-2-2-2zM9 17H7v-7h2v7zm4 0h-2V7h2v10zm4 0h-2v-4h2v4z\"/>\n",
              "    </g>\n",
              "</svg>\n",
              "  </button>\n",
              "\n",
              "<style>\n",
              "  .colab-df-quickchart {\n",
              "      --bg-color: #E8F0FE;\n",
              "      --fill-color: #1967D2;\n",
              "      --hover-bg-color: #E2EBFA;\n",
              "      --hover-fill-color: #174EA6;\n",
              "      --disabled-fill-color: #AAA;\n",
              "      --disabled-bg-color: #DDD;\n",
              "  }\n",
              "\n",
              "  [theme=dark] .colab-df-quickchart {\n",
              "      --bg-color: #3B4455;\n",
              "      --fill-color: #D2E3FC;\n",
              "      --hover-bg-color: #434B5C;\n",
              "      --hover-fill-color: #FFFFFF;\n",
              "      --disabled-bg-color: #3B4455;\n",
              "      --disabled-fill-color: #666;\n",
              "  }\n",
              "\n",
              "  .colab-df-quickchart {\n",
              "    background-color: var(--bg-color);\n",
              "    border: none;\n",
              "    border-radius: 50%;\n",
              "    cursor: pointer;\n",
              "    display: none;\n",
              "    fill: var(--fill-color);\n",
              "    height: 32px;\n",
              "    padding: 0;\n",
              "    width: 32px;\n",
              "  }\n",
              "\n",
              "  .colab-df-quickchart:hover {\n",
              "    background-color: var(--hover-bg-color);\n",
              "    box-shadow: 0 1px 2px rgba(60, 64, 67, 0.3), 0 1px 3px 1px rgba(60, 64, 67, 0.15);\n",
              "    fill: var(--button-hover-fill-color);\n",
              "  }\n",
              "\n",
              "  .colab-df-quickchart-complete:disabled,\n",
              "  .colab-df-quickchart-complete:disabled:hover {\n",
              "    background-color: var(--disabled-bg-color);\n",
              "    fill: var(--disabled-fill-color);\n",
              "    box-shadow: none;\n",
              "  }\n",
              "\n",
              "  .colab-df-spinner {\n",
              "    border: 2px solid var(--fill-color);\n",
              "    border-color: transparent;\n",
              "    border-bottom-color: var(--fill-color);\n",
              "    animation:\n",
              "      spin 1s steps(1) infinite;\n",
              "  }\n",
              "\n",
              "  @keyframes spin {\n",
              "    0% {\n",
              "      border-color: transparent;\n",
              "      border-bottom-color: var(--fill-color);\n",
              "      border-left-color: var(--fill-color);\n",
              "    }\n",
              "    20% {\n",
              "      border-color: transparent;\n",
              "      border-left-color: var(--fill-color);\n",
              "      border-top-color: var(--fill-color);\n",
              "    }\n",
              "    30% {\n",
              "      border-color: transparent;\n",
              "      border-left-color: var(--fill-color);\n",
              "      border-top-color: var(--fill-color);\n",
              "      border-right-color: var(--fill-color);\n",
              "    }\n",
              "    40% {\n",
              "      border-color: transparent;\n",
              "      border-right-color: var(--fill-color);\n",
              "      border-top-color: var(--fill-color);\n",
              "    }\n",
              "    60% {\n",
              "      border-color: transparent;\n",
              "      border-right-color: var(--fill-color);\n",
              "    }\n",
              "    80% {\n",
              "      border-color: transparent;\n",
              "      border-right-color: var(--fill-color);\n",
              "      border-bottom-color: var(--fill-color);\n",
              "    }\n",
              "    90% {\n",
              "      border-color: transparent;\n",
              "      border-bottom-color: var(--fill-color);\n",
              "    }\n",
              "  }\n",
              "</style>\n",
              "\n",
              "  <script>\n",
              "    async function quickchart(key) {\n",
              "      const quickchartButtonEl =\n",
              "        document.querySelector('#' + key + ' button');\n",
              "      quickchartButtonEl.disabled = true;  // To prevent multiple clicks.\n",
              "      quickchartButtonEl.classList.add('colab-df-spinner');\n",
              "      try {\n",
              "        const charts = await google.colab.kernel.invokeFunction(\n",
              "            'suggestCharts', [key], {});\n",
              "      } catch (error) {\n",
              "        console.error('Error during call to suggestCharts:', error);\n",
              "      }\n",
              "      quickchartButtonEl.classList.remove('colab-df-spinner');\n",
              "      quickchartButtonEl.classList.add('colab-df-quickchart-complete');\n",
              "    }\n",
              "    (() => {\n",
              "      let quickchartButtonEl =\n",
              "        document.querySelector('#df-7ea54997-d98c-49d0-bc14-e6a4da351694 button');\n",
              "      quickchartButtonEl.style.display =\n",
              "        google.colab.kernel.accessAllowed ? 'block' : 'none';\n",
              "    })();\n",
              "  </script>\n",
              "</div>\n",
              "    </div>\n",
              "  </div>\n"
            ]
          },
          "metadata": {},
          "execution_count": 156
        }
      ]
    },
    {
      "cell_type": "code",
      "source": [
        "data.to_excel('data.xlsx', index = False)"
      ],
      "metadata": {
        "id": "Mtha52EWiMIy"
      },
      "execution_count": 154,
      "outputs": []
    },
    {
      "cell_type": "code",
      "source": [
        "from google.colab import files\n",
        "\n",
        "files.download('data.xlsx')"
      ],
      "metadata": {
        "colab": {
          "base_uri": "https://localhost:8080/",
          "height": 17
        },
        "id": "4g4ITtUzirIq",
        "outputId": "c20da354-5910-4a79-c93a-a31375e87a93"
      },
      "execution_count": 155,
      "outputs": [
        {
          "output_type": "display_data",
          "data": {
            "text/plain": [
              "<IPython.core.display.Javascript object>"
            ],
            "application/javascript": [
              "\n",
              "    async function download(id, filename, size) {\n",
              "      if (!google.colab.kernel.accessAllowed) {\n",
              "        return;\n",
              "      }\n",
              "      const div = document.createElement('div');\n",
              "      const label = document.createElement('label');\n",
              "      label.textContent = `Downloading \"${filename}\": `;\n",
              "      div.appendChild(label);\n",
              "      const progress = document.createElement('progress');\n",
              "      progress.max = size;\n",
              "      div.appendChild(progress);\n",
              "      document.body.appendChild(div);\n",
              "\n",
              "      const buffers = [];\n",
              "      let downloaded = 0;\n",
              "\n",
              "      const channel = await google.colab.kernel.comms.open(id);\n",
              "      // Send a message to notify the kernel that we're ready.\n",
              "      channel.send({})\n",
              "\n",
              "      for await (const message of channel.messages) {\n",
              "        // Send a message to notify the kernel that we're ready.\n",
              "        channel.send({})\n",
              "        if (message.buffers) {\n",
              "          for (const buffer of message.buffers) {\n",
              "            buffers.push(buffer);\n",
              "            downloaded += buffer.byteLength;\n",
              "            progress.value = downloaded;\n",
              "          }\n",
              "        }\n",
              "      }\n",
              "      const blob = new Blob(buffers, {type: 'application/binary'});\n",
              "      const a = document.createElement('a');\n",
              "      a.href = window.URL.createObjectURL(blob);\n",
              "      a.download = filename;\n",
              "      div.appendChild(a);\n",
              "      a.click();\n",
              "      div.remove();\n",
              "    }\n",
              "  "
            ]
          },
          "metadata": {}
        },
        {
          "output_type": "display_data",
          "data": {
            "text/plain": [
              "<IPython.core.display.Javascript object>"
            ],
            "application/javascript": [
              "download(\"download_776b1e03-d376-4e8d-9da8-1be1b6519c6f\", \"data.xlsx\", 226955)"
            ]
          },
          "metadata": {}
        }
      ]
    },
    {
      "cell_type": "code",
      "source": [
        "data = data.drop([0, 1, 2])"
      ],
      "metadata": {
        "id": "4MyU4YtGk13b"
      },
      "execution_count": 168,
      "outputs": []
    },
    {
      "cell_type": "code",
      "source": [
        "data.groupby(['name']).size().sort_values().plot(kind='bar',figsize=(15,7))"
      ],
      "metadata": {
        "colab": {
          "base_uri": "https://localhost:8080/",
          "height": 908
        },
        "id": "UyP03xFnjRKD",
        "outputId": "4fa10ae7-bd65-4939-8bc2-84e8cedfb8bf"
      },
      "execution_count": 234,
      "outputs": [
        {
          "output_type": "execute_result",
          "data": {
            "text/plain": [
              "<Axes: xlabel='name'>"
            ]
          },
          "metadata": {},
          "execution_count": 234
        },
        {
          "output_type": "display_data",
          "data": {
            "text/plain": [
              "<Figure size 1500x700 with 1 Axes>"
            ],
            "image/png": "[encoded data removed]"
          },
          "metadata": {}
        }
      ]
    },
    {
      "cell_type": "code",
      "source": [
        "data['domen'] = data.url.apply(lambda s: '/'.join(s.split('/')[0:3]))"
      ],
      "metadata": {
        "id": "jXXg2e1TlLtw"
      },
      "execution_count": 182,
      "outputs": []
    },
    {
      "cell_type": "code",
      "source": [
        "data.groupby(['domen']).size().sort_values().tail(10).plot(kind='bar',figsize=(15,7))"
      ],
      "metadata": {
        "colab": {
          "base_uri": "https://localhost:8080/",
          "height": 863
        },
        "id": "rPlBCYUVm98u",
        "outputId": "0430fa5f-d5ef-4b95-8618-d2587ef03c96"
      },
      "execution_count": 185,
      "outputs": [
        {
          "output_type": "execute_result",
          "data": {
            "text/plain": [
              "<Axes: xlabel='domen'>"
            ]
          },
          "metadata": {},
          "execution_count": 185
        },
        {
          "output_type": "display_data",
          "data": {
            "text/plain": [
              "<Figure size 1500x700 with 1 Axes>"
            ],
            "image/png": "[encoded data removed]"
          },
          "metadata": {}
        }
      ]
    },
    {
      "cell_type": "code",
      "source": [
        "import ipywidgets as widgets\n",
        "import matplotlib.pyplot as plt"
      ],
      "metadata": {
        "id": "csxA1b1NoTgL"
      },
      "execution_count": 271,
      "outputs": []
    },
    {
      "cell_type": "code",
      "source": [
        "worlds = widgets.Dropdown(\n",
        "    options=[('Мир', 'name'), ('Группа','group')],\n",
        "    description='Мир:',\n",
        "    disabled=False,\n",
        ")\n",
        "output = widgets.Output()\n",
        "\n",
        "display(worlds, output)\n",
        "\n",
        "def on_value_change(change):\n",
        "  with output:\n",
        "    output.clear_output()\n",
        "    cat = change['new']\n",
        "    xy = data.groupby([cat]).size().sort_values().tail(10)\n",
        "    plt.bar(xy.index.tolist(), xy.values.tolist())\n",
        "    plt.xticks(rotation=90)\n",
        "    plt.show()\n",
        "\n",
        "worlds.observe(on_value_change, names='value')"
      ],
      "metadata": {
        "colab": {
          "base_uri": "https://localhost:8080/",
          "height": 553,
          "referenced_widgets": [
            "92e3f1b60b45461aa3a6c6fbeee20778",
            "c3c327acbc5b47e98de19487b43ea23e",
            "f9acb62366354947a2a48d028e07cd76",
            "527e0212a8bc4b2a88029eef643fd9e4",
            "25eb8dd156074e96b1e514fdea042d50"
          ]
        },
        "id": "dX1urlSvocIN",
        "outputId": "449fb359-10e6-4190-996b-9cb3fd34b346"
      },
      "execution_count": 272,
      "outputs": [
        {
          "output_type": "display_data",
          "data": {
            "text/plain": [
              "Dropdown(description='Мир:', options=(('Мир', 'name'), ('Группа', 'group')), value='name')"
            ],
            "application/vnd.jupyter.widget-view+json": {
              "version_major": 2,
              "version_minor": 0,
              "model_id": "92e3f1b60b45461aa3a6c6fbeee20778"
            }
          },
          "metadata": {}
        },
        {
          "output_type": "display_data",
          "data": {
            "text/plain": [
              "Output()"
            ],
            "application/vnd.jupyter.widget-view+json": {
              "version_major": 2,
              "version_minor": 0,
              "model_id": "527e0212a8bc4b2a88029eef643fd9e4"
            }
          },
          "metadata": {}
        }
      ]
    }
  ]
}